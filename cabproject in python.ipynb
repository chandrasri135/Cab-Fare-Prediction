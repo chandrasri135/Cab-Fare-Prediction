{
 "cells": [
  {
   "cell_type": "code",
   "execution_count": 103,
   "metadata": {},
   "outputs": [],
   "source": [
    "import os\n",
    "import pandas as pd\n",
    "import numpy as np\n",
    "import matplotlib.pyplot as plt\n",
    "from pylab import *\n",
    "from fancyimpute import KNN\n",
    "from scipy.stats import chi2_contingency\n",
    "import seaborn as sns\n",
    "from random import randrange, uniform\n",
    "from sklearn.model_selection import train_test_split\n",
    "from sklearn.tree import DecisionTreeRegressor\n",
    "import statsmodels.api as sm\n",
    "from statsmodels.formula.api import ols\n",
    "import scipy.stats as stats\n",
    "from sklearn.metrics import r2_score\n",
    "import matplotlib.pyplot as plt # some plotting!\n",
    "import seaborn as sns # so For Plots!\n",
    "%matplotlib inline \n",
    "import matplotlib.pyplot as plt # some plotting!\n",
    "import seaborn as sns # so For Plots!\n",
    "#Feature importance plotting\n",
    "from sklearn.ensemble import RandomForestRegressor"
   ]
  },
  {
   "cell_type": "code",
   "execution_count": 104,
   "metadata": {},
   "outputs": [],
   "source": [
    "os.chdir(\"C:/Users/Sridhar/Desktop/project on prediction/prediction on cab/3\")"
   ]
  },
  {
   "cell_type": "markdown",
   "metadata": {},
   "source": [
    "## Reading The Data"
   ]
  },
  {
   "cell_type": "code",
   "execution_count": 105,
   "metadata": {},
   "outputs": [],
   "source": [
    "#Load data\n",
    "cabfare= pd.read_csv(\"train_cab.csv\",parse_dates=['pickup_datetime'])\n",
    "cabtest = pd.read_csv(\"test.csv\", parse_dates=['pickup_datetime'])"
   ]
  },
  {
   "cell_type": "markdown",
   "metadata": {},
   "source": [
    "## knowing structure of our data"
   ]
  },
  {
   "cell_type": "code",
   "execution_count": 106,
   "metadata": {},
   "outputs": [
    {
     "data": {
      "text/html": [
       "<div>\n",
       "<style scoped>\n",
       "    .dataframe tbody tr th:only-of-type {\n",
       "        vertical-align: middle;\n",
       "    }\n",
       "\n",
       "    .dataframe tbody tr th {\n",
       "        vertical-align: top;\n",
       "    }\n",
       "\n",
       "    .dataframe thead th {\n",
       "        text-align: right;\n",
       "    }\n",
       "</style>\n",
       "<table border=\"1\" class=\"dataframe\">\n",
       "  <thead>\n",
       "    <tr style=\"text-align: right;\">\n",
       "      <th></th>\n",
       "      <th>fare_amount</th>\n",
       "      <th>pickup_datetime</th>\n",
       "      <th>pickup_longitude</th>\n",
       "      <th>pickup_latitude</th>\n",
       "      <th>dropoff_longitude</th>\n",
       "      <th>dropoff_latitude</th>\n",
       "      <th>passenger_count</th>\n",
       "    </tr>\n",
       "  </thead>\n",
       "  <tbody>\n",
       "    <tr>\n",
       "      <td>0</td>\n",
       "      <td>4.5</td>\n",
       "      <td>2009-06-15 17:26:21 UTC</td>\n",
       "      <td>-73.844311</td>\n",
       "      <td>40.721319</td>\n",
       "      <td>-73.841610</td>\n",
       "      <td>40.712278</td>\n",
       "      <td>1.0</td>\n",
       "    </tr>\n",
       "    <tr>\n",
       "      <td>1</td>\n",
       "      <td>16.9</td>\n",
       "      <td>2010-01-05 16:52:16 UTC</td>\n",
       "      <td>-74.016048</td>\n",
       "      <td>40.711303</td>\n",
       "      <td>-73.979268</td>\n",
       "      <td>40.782004</td>\n",
       "      <td>1.0</td>\n",
       "    </tr>\n",
       "    <tr>\n",
       "      <td>2</td>\n",
       "      <td>5.7</td>\n",
       "      <td>2011-08-18 00:35:00 UTC</td>\n",
       "      <td>-73.982738</td>\n",
       "      <td>40.761270</td>\n",
       "      <td>-73.991242</td>\n",
       "      <td>40.750562</td>\n",
       "      <td>2.0</td>\n",
       "    </tr>\n",
       "    <tr>\n",
       "      <td>3</td>\n",
       "      <td>7.7</td>\n",
       "      <td>2012-04-21 04:30:42 UTC</td>\n",
       "      <td>-73.987130</td>\n",
       "      <td>40.733143</td>\n",
       "      <td>-73.991567</td>\n",
       "      <td>40.758092</td>\n",
       "      <td>1.0</td>\n",
       "    </tr>\n",
       "    <tr>\n",
       "      <td>4</td>\n",
       "      <td>5.3</td>\n",
       "      <td>2010-03-09 07:51:00 UTC</td>\n",
       "      <td>-73.968095</td>\n",
       "      <td>40.768008</td>\n",
       "      <td>-73.956655</td>\n",
       "      <td>40.783762</td>\n",
       "      <td>1.0</td>\n",
       "    </tr>\n",
       "  </tbody>\n",
       "</table>\n",
       "</div>"
      ],
      "text/plain": [
       "  fare_amount          pickup_datetime  pickup_longitude  pickup_latitude  \\\n",
       "0         4.5  2009-06-15 17:26:21 UTC        -73.844311        40.721319   \n",
       "1        16.9  2010-01-05 16:52:16 UTC        -74.016048        40.711303   \n",
       "2         5.7  2011-08-18 00:35:00 UTC        -73.982738        40.761270   \n",
       "3         7.7  2012-04-21 04:30:42 UTC        -73.987130        40.733143   \n",
       "4         5.3  2010-03-09 07:51:00 UTC        -73.968095        40.768008   \n",
       "\n",
       "   dropoff_longitude  dropoff_latitude  passenger_count  \n",
       "0         -73.841610         40.712278              1.0  \n",
       "1         -73.979268         40.782004              1.0  \n",
       "2         -73.991242         40.750562              2.0  \n",
       "3         -73.991567         40.758092              1.0  \n",
       "4         -73.956655         40.783762              1.0  "
      ]
     },
     "execution_count": 106,
     "metadata": {},
     "output_type": "execute_result"
    }
   ],
   "source": [
    "cabfare.head(5)"
   ]
  },
  {
   "cell_type": "code",
   "execution_count": 107,
   "metadata": {},
   "outputs": [
    {
     "data": {
      "text/html": [
       "<div>\n",
       "<style scoped>\n",
       "    .dataframe tbody tr th:only-of-type {\n",
       "        vertical-align: middle;\n",
       "    }\n",
       "\n",
       "    .dataframe tbody tr th {\n",
       "        vertical-align: top;\n",
       "    }\n",
       "\n",
       "    .dataframe thead th {\n",
       "        text-align: right;\n",
       "    }\n",
       "</style>\n",
       "<table border=\"1\" class=\"dataframe\">\n",
       "  <thead>\n",
       "    <tr style=\"text-align: right;\">\n",
       "      <th></th>\n",
       "      <th>fare_amount</th>\n",
       "      <th>pickup_datetime</th>\n",
       "      <th>pickup_longitude</th>\n",
       "      <th>pickup_latitude</th>\n",
       "      <th>dropoff_longitude</th>\n",
       "      <th>dropoff_latitude</th>\n",
       "      <th>passenger_count</th>\n",
       "    </tr>\n",
       "  </thead>\n",
       "  <tbody>\n",
       "    <tr>\n",
       "      <td>count</td>\n",
       "      <td>16043</td>\n",
       "      <td>16067</td>\n",
       "      <td>16067.000000</td>\n",
       "      <td>16067.000000</td>\n",
       "      <td>16067.000000</td>\n",
       "      <td>16067.000000</td>\n",
       "      <td>16012.000000</td>\n",
       "    </tr>\n",
       "    <tr>\n",
       "      <td>unique</td>\n",
       "      <td>468</td>\n",
       "      <td>16021</td>\n",
       "      <td>NaN</td>\n",
       "      <td>NaN</td>\n",
       "      <td>NaN</td>\n",
       "      <td>NaN</td>\n",
       "      <td>NaN</td>\n",
       "    </tr>\n",
       "    <tr>\n",
       "      <td>top</td>\n",
       "      <td>6.5</td>\n",
       "      <td>2012-04-28 19:45:00 UTC</td>\n",
       "      <td>NaN</td>\n",
       "      <td>NaN</td>\n",
       "      <td>NaN</td>\n",
       "      <td>NaN</td>\n",
       "      <td>NaN</td>\n",
       "    </tr>\n",
       "    <tr>\n",
       "      <td>freq</td>\n",
       "      <td>759</td>\n",
       "      <td>2</td>\n",
       "      <td>NaN</td>\n",
       "      <td>NaN</td>\n",
       "      <td>NaN</td>\n",
       "      <td>NaN</td>\n",
       "      <td>NaN</td>\n",
       "    </tr>\n",
       "    <tr>\n",
       "      <td>mean</td>\n",
       "      <td>NaN</td>\n",
       "      <td>NaN</td>\n",
       "      <td>-72.462787</td>\n",
       "      <td>39.914725</td>\n",
       "      <td>-72.462328</td>\n",
       "      <td>39.897906</td>\n",
       "      <td>2.625070</td>\n",
       "    </tr>\n",
       "    <tr>\n",
       "      <td>std</td>\n",
       "      <td>NaN</td>\n",
       "      <td>NaN</td>\n",
       "      <td>10.578384</td>\n",
       "      <td>6.826587</td>\n",
       "      <td>10.575062</td>\n",
       "      <td>6.187087</td>\n",
       "      <td>60.844122</td>\n",
       "    </tr>\n",
       "    <tr>\n",
       "      <td>min</td>\n",
       "      <td>NaN</td>\n",
       "      <td>NaN</td>\n",
       "      <td>-74.438233</td>\n",
       "      <td>-74.006893</td>\n",
       "      <td>-74.429332</td>\n",
       "      <td>-74.006377</td>\n",
       "      <td>0.000000</td>\n",
       "    </tr>\n",
       "    <tr>\n",
       "      <td>25%</td>\n",
       "      <td>NaN</td>\n",
       "      <td>NaN</td>\n",
       "      <td>-73.992156</td>\n",
       "      <td>40.734927</td>\n",
       "      <td>-73.991182</td>\n",
       "      <td>40.734651</td>\n",
       "      <td>1.000000</td>\n",
       "    </tr>\n",
       "    <tr>\n",
       "      <td>50%</td>\n",
       "      <td>NaN</td>\n",
       "      <td>NaN</td>\n",
       "      <td>-73.981698</td>\n",
       "      <td>40.752603</td>\n",
       "      <td>-73.980172</td>\n",
       "      <td>40.753567</td>\n",
       "      <td>1.000000</td>\n",
       "    </tr>\n",
       "    <tr>\n",
       "      <td>75%</td>\n",
       "      <td>NaN</td>\n",
       "      <td>NaN</td>\n",
       "      <td>-73.966838</td>\n",
       "      <td>40.767381</td>\n",
       "      <td>-73.963643</td>\n",
       "      <td>40.768013</td>\n",
       "      <td>2.000000</td>\n",
       "    </tr>\n",
       "    <tr>\n",
       "      <td>max</td>\n",
       "      <td>NaN</td>\n",
       "      <td>NaN</td>\n",
       "      <td>40.766125</td>\n",
       "      <td>401.083332</td>\n",
       "      <td>40.802437</td>\n",
       "      <td>41.366138</td>\n",
       "      <td>5345.000000</td>\n",
       "    </tr>\n",
       "  </tbody>\n",
       "</table>\n",
       "</div>"
      ],
      "text/plain": [
       "       fare_amount          pickup_datetime  pickup_longitude  \\\n",
       "count        16043                    16067      16067.000000   \n",
       "unique         468                    16021               NaN   \n",
       "top            6.5  2012-04-28 19:45:00 UTC               NaN   \n",
       "freq           759                        2               NaN   \n",
       "mean           NaN                      NaN        -72.462787   \n",
       "std            NaN                      NaN         10.578384   \n",
       "min            NaN                      NaN        -74.438233   \n",
       "25%            NaN                      NaN        -73.992156   \n",
       "50%            NaN                      NaN        -73.981698   \n",
       "75%            NaN                      NaN        -73.966838   \n",
       "max            NaN                      NaN         40.766125   \n",
       "\n",
       "        pickup_latitude  dropoff_longitude  dropoff_latitude  passenger_count  \n",
       "count      16067.000000       16067.000000      16067.000000     16012.000000  \n",
       "unique              NaN                NaN               NaN              NaN  \n",
       "top                 NaN                NaN               NaN              NaN  \n",
       "freq                NaN                NaN               NaN              NaN  \n",
       "mean          39.914725         -72.462328         39.897906         2.625070  \n",
       "std            6.826587          10.575062          6.187087        60.844122  \n",
       "min          -74.006893         -74.429332        -74.006377         0.000000  \n",
       "25%           40.734927         -73.991182         40.734651         1.000000  \n",
       "50%           40.752603         -73.980172         40.753567         1.000000  \n",
       "75%           40.767381         -73.963643         40.768013         2.000000  \n",
       "max          401.083332          40.802437         41.366138      5345.000000  "
      ]
     },
     "execution_count": 107,
     "metadata": {},
     "output_type": "execute_result"
    }
   ],
   "source": [
    "cabfare.describe(include='all')"
   ]
  },
  {
   "cell_type": "code",
   "execution_count": 108,
   "metadata": {},
   "outputs": [
    {
     "data": {
      "text/plain": [
       "(16067, 7)"
      ]
     },
     "execution_count": 108,
     "metadata": {},
     "output_type": "execute_result"
    }
   ],
   "source": [
    "cabfare.shape"
   ]
  },
  {
   "cell_type": "code",
   "execution_count": 109,
   "metadata": {},
   "outputs": [
    {
     "name": "stdout",
     "output_type": "stream",
     "text": [
      "<class 'pandas.core.frame.DataFrame'>\n",
      "RangeIndex: 16067 entries, 0 to 16066\n",
      "Data columns (total 7 columns):\n",
      "fare_amount          16043 non-null object\n",
      "pickup_datetime      16067 non-null object\n",
      "pickup_longitude     16067 non-null float64\n",
      "pickup_latitude      16067 non-null float64\n",
      "dropoff_longitude    16067 non-null float64\n",
      "dropoff_latitude     16067 non-null float64\n",
      "passenger_count      16012 non-null float64\n",
      "dtypes: float64(5), object(2)\n",
      "memory usage: 878.8+ KB\n",
      "cabfare: None\n"
     ]
    }
   ],
   "source": [
    "#cabfare.dtypes\n",
    "print('cabfare:', cabfare.info())"
   ]
  },
  {
   "cell_type": "markdown",
   "metadata": {},
   "source": [
    "## Changing the data types of our variables\n",
    "#  Data Cleaning"
   ]
  },
  {
   "cell_type": "code",
   "execution_count": 110,
   "metadata": {},
   "outputs": [],
   "source": [
    "# Convert the fare amount field from an object to a float\\n\",\n",
    "cabfare['fare_amount'] = pd.to_numeric(cabfare['fare_amount'], errors='coerce')\n",
    "cabfare['pickup_datetime']=pd.to_datetime(cabfare['pickup_datetime'],errors='coerce')"
   ]
  },
  {
   "cell_type": "code",
   "execution_count": 111,
   "metadata": {},
   "outputs": [],
   "source": [
    "#Changing the values to its absolute for easier calculation further\n",
    "cabfare = cabfare[abs(cabfare[\"pickup_latitude\"]) < 90] #One value is 401 deleting that\n",
    "cabfare = cabfare[abs(cabfare[\"dropoff_latitude\"]) < 90] #non greater than 90\n",
    "cabfare = cabfare[abs(cabfare[\"pickup_longitude\"]) < 180]\n",
    "cabfare = cabfare[abs(cabfare[\"dropoff_longitude\"]) < 180]"
   ]
  },
  {
   "cell_type": "markdown",
   "metadata": {},
   "source": [
    "## Data Pre-Processing\n"
   ]
  },
  {
   "cell_type": "code",
   "execution_count": 112,
   "metadata": {},
   "outputs": [],
   "source": [
    "#Deleting pasangers count where count > 8, as a cab can max hold 8 passengers and i want to avoid outliers so deleting it not imputing\n",
    "index_pc = cabfare.loc[cabfare.passenger_count > 8,:].index\n",
    "cabfare.drop(index_pc, axis = 0, inplace = True)"
   ]
  },
  {
   "cell_type": "code",
   "execution_count": 113,
   "metadata": {},
   "outputs": [],
   "source": [
    "#deleting values greater than 100 or negative\n",
    "index_fc = cabfare.loc[cabfare.fare_amount > 100,:].index\n",
    "cabfare.drop(index_fc, axis = 0, inplace = True)\n",
    "\n",
    "index_fc1 = cabfare.loc[cabfare.fare_amount < 0, :].index\n",
    "cabfare.drop(index_fc1, axis = 0, inplace = True)"
   ]
  },
  {
   "cell_type": "code",
   "execution_count": 114,
   "metadata": {},
   "outputs": [],
   "source": [
    "cabfare = cabfare.dropna(subset=['fare_amount'])\n",
    "cabfare = cabfare.dropna(subset=['pickup_datetime'])"
   ]
  },
  {
   "cell_type": "code",
   "execution_count": 115,
   "metadata": {},
   "outputs": [],
   "source": [
    "cabfare=cabfare.replace(0,np.nan)"
   ]
  },
  {
   "cell_type": "code",
   "execution_count": 116,
   "metadata": {},
   "outputs": [
    {
     "data": {
      "text/html": [
       "<div>\n",
       "<style scoped>\n",
       "    .dataframe tbody tr th:only-of-type {\n",
       "        vertical-align: middle;\n",
       "    }\n",
       "\n",
       "    .dataframe tbody tr th {\n",
       "        vertical-align: top;\n",
       "    }\n",
       "\n",
       "    .dataframe thead th {\n",
       "        text-align: right;\n",
       "    }\n",
       "</style>\n",
       "<table border=\"1\" class=\"dataframe\">\n",
       "  <thead>\n",
       "    <tr style=\"text-align: right;\">\n",
       "      <th></th>\n",
       "      <th>fare_amount</th>\n",
       "      <th>pickup_datetime</th>\n",
       "      <th>pickup_longitude</th>\n",
       "      <th>pickup_latitude</th>\n",
       "      <th>dropoff_longitude</th>\n",
       "      <th>dropoff_latitude</th>\n",
       "      <th>passenger_count</th>\n",
       "    </tr>\n",
       "  </thead>\n",
       "  <tbody>\n",
       "    <tr>\n",
       "      <td>0</td>\n",
       "      <td>4.5</td>\n",
       "      <td>2009-06-15 17:26:21+00:00</td>\n",
       "      <td>-73.844311</td>\n",
       "      <td>40.721319</td>\n",
       "      <td>-73.841610</td>\n",
       "      <td>40.712278</td>\n",
       "      <td>1.0</td>\n",
       "    </tr>\n",
       "    <tr>\n",
       "      <td>1</td>\n",
       "      <td>16.9</td>\n",
       "      <td>2010-01-05 16:52:16+00:00</td>\n",
       "      <td>-74.016048</td>\n",
       "      <td>40.711303</td>\n",
       "      <td>-73.979268</td>\n",
       "      <td>40.782004</td>\n",
       "      <td>1.0</td>\n",
       "    </tr>\n",
       "  </tbody>\n",
       "</table>\n",
       "</div>"
      ],
      "text/plain": [
       "   fare_amount           pickup_datetime  pickup_longitude  pickup_latitude  \\\n",
       "0          4.5 2009-06-15 17:26:21+00:00        -73.844311        40.721319   \n",
       "1         16.9 2010-01-05 16:52:16+00:00        -74.016048        40.711303   \n",
       "\n",
       "   dropoff_longitude  dropoff_latitude  passenger_count  \n",
       "0         -73.841610         40.712278              1.0  \n",
       "1         -73.979268         40.782004              1.0  "
      ]
     },
     "execution_count": 116,
     "metadata": {},
     "output_type": "execute_result"
    }
   ],
   "source": [
    "cabfare.head(2)"
   ]
  },
  {
   "cell_type": "code",
   "execution_count": null,
   "metadata": {},
   "outputs": [],
   "source": []
  },
  {
   "cell_type": "code",
   "execution_count": 117,
   "metadata": {},
   "outputs": [],
   "source": [
    "#Datetime breakup and changinng the datatype to int(Feature Engineering)\n",
    "\n",
    "cabfare['year']=cabfare['pickup_datetime'].dt.year\n",
    "cabfare['month']=cabfare['pickup_datetime'].dt.month\n",
    "cabfare['weekday']=cabfare['pickup_datetime'].dt.weekday\n",
    "cabfare['hour']=cabfare['pickup_datetime'].dt.hour"
   ]
  },
  {
   "cell_type": "code",
   "execution_count": 118,
   "metadata": {},
   "outputs": [],
   "source": [
    "cabfare=cabfare.drop('pickup_datetime',axis=1)"
   ]
  },
  {
   "cell_type": "markdown",
   "metadata": {},
   "source": [
    "## Missing Value Analysis"
   ]
  },
  {
   "cell_type": "code",
   "execution_count": 119,
   "metadata": {},
   "outputs": [
    {
     "data": {
      "text/html": [
       "<div>\n",
       "<style scoped>\n",
       "    .dataframe tbody tr th:only-of-type {\n",
       "        vertical-align: middle;\n",
       "    }\n",
       "\n",
       "    .dataframe tbody tr th {\n",
       "        vertical-align: top;\n",
       "    }\n",
       "\n",
       "    .dataframe thead th {\n",
       "        text-align: right;\n",
       "    }\n",
       "</style>\n",
       "<table border=\"1\" class=\"dataframe\">\n",
       "  <thead>\n",
       "    <tr style=\"text-align: right;\">\n",
       "      <th></th>\n",
       "      <th>Total</th>\n",
       "      <th>Percent</th>\n",
       "    </tr>\n",
       "  </thead>\n",
       "  <tbody>\n",
       "    <tr>\n",
       "      <td>hour</td>\n",
       "      <td>0</td>\n",
       "      <td>0.000000</td>\n",
       "    </tr>\n",
       "    <tr>\n",
       "      <td>weekday</td>\n",
       "      <td>0</td>\n",
       "      <td>0.000000</td>\n",
       "    </tr>\n",
       "    <tr>\n",
       "      <td>month</td>\n",
       "      <td>0</td>\n",
       "      <td>0.000000</td>\n",
       "    </tr>\n",
       "    <tr>\n",
       "      <td>year</td>\n",
       "      <td>0</td>\n",
       "      <td>0.000000</td>\n",
       "    </tr>\n",
       "    <tr>\n",
       "      <td>fare_amount</td>\n",
       "      <td>1</td>\n",
       "      <td>0.006246</td>\n",
       "    </tr>\n",
       "    <tr>\n",
       "      <td>passenger_count</td>\n",
       "      <td>112</td>\n",
       "      <td>0.699606</td>\n",
       "    </tr>\n",
       "    <tr>\n",
       "      <td>dropoff_latitude</td>\n",
       "      <td>307</td>\n",
       "      <td>1.917671</td>\n",
       "    </tr>\n",
       "    <tr>\n",
       "      <td>dropoff_longitude</td>\n",
       "      <td>309</td>\n",
       "      <td>1.930164</td>\n",
       "    </tr>\n",
       "    <tr>\n",
       "      <td>pickup_latitude</td>\n",
       "      <td>310</td>\n",
       "      <td>1.936411</td>\n",
       "    </tr>\n",
       "    <tr>\n",
       "      <td>pickup_longitude</td>\n",
       "      <td>310</td>\n",
       "      <td>1.936411</td>\n",
       "    </tr>\n",
       "  </tbody>\n",
       "</table>\n",
       "</div>"
      ],
      "text/plain": [
       "                   Total   Percent\n",
       "hour                   0  0.000000\n",
       "weekday                0  0.000000\n",
       "month                  0  0.000000\n",
       "year                   0  0.000000\n",
       "fare_amount            1  0.006246\n",
       "passenger_count      112  0.699606\n",
       "dropoff_latitude     307  1.917671\n",
       "dropoff_longitude    309  1.930164\n",
       "pickup_latitude      310  1.936411\n",
       "pickup_longitude     310  1.936411"
      ]
     },
     "execution_count": 119,
     "metadata": {},
     "output_type": "execute_result"
    }
   ],
   "source": [
    "total = cabfare.isnull().sum().sort_values(ascending=False)\n",
    "percent = ((cabfare.isnull().sum()/cabfare.isnull().count()).sort_values(ascending=False))*100\n",
    "missing_data = pd.concat([total, percent], axis=1, keys=['Total', 'Percent'])\n",
    "missing_data = missing_data.sort_values('Total', ascending = True)\n",
    "missing_data"
   ]
  },
  {
   "cell_type": "code",
   "execution_count": 120,
   "metadata": {},
   "outputs": [
    {
     "name": "stdout",
     "output_type": "stream",
     "text": [
      "Imputing row 1/16009 with 0 missing, elapsed time: 89.778\n",
      "Imputing row 101/16009 with 0 missing, elapsed time: 90.127\n",
      "Imputing row 201/16009 with 0 missing, elapsed time: 90.140\n",
      "Imputing row 301/16009 with 0 missing, elapsed time: 90.143\n",
      "Imputing row 401/16009 with 0 missing, elapsed time: 90.149\n",
      "Imputing row 501/16009 with 0 missing, elapsed time: 90.154\n",
      "Imputing row 601/16009 with 0 missing, elapsed time: 90.173\n",
      "Imputing row 701/16009 with 0 missing, elapsed time: 90.181\n",
      "Imputing row 801/16009 with 0 missing, elapsed time: 90.190\n",
      "Imputing row 901/16009 with 0 missing, elapsed time: 90.200\n",
      "Imputing row 1001/16009 with 0 missing, elapsed time: 90.209\n",
      "Imputing row 1101/16009 with 0 missing, elapsed time: 90.209\n",
      "Imputing row 1201/16009 with 0 missing, elapsed time: 90.213\n",
      "Imputing row 1301/16009 with 0 missing, elapsed time: 90.220\n",
      "Imputing row 1401/16009 with 0 missing, elapsed time: 90.225\n",
      "Imputing row 1501/16009 with 0 missing, elapsed time: 90.231\n",
      "Imputing row 1601/16009 with 0 missing, elapsed time: 90.243\n",
      "Imputing row 1701/16009 with 0 missing, elapsed time: 90.248\n",
      "Imputing row 1801/16009 with 0 missing, elapsed time: 90.260\n",
      "Imputing row 1901/16009 with 0 missing, elapsed time: 90.267\n",
      "Imputing row 2001/16009 with 0 missing, elapsed time: 90.273\n",
      "Imputing row 2101/16009 with 0 missing, elapsed time: 90.274\n",
      "Imputing row 2201/16009 with 0 missing, elapsed time: 90.279\n",
      "Imputing row 2301/16009 with 0 missing, elapsed time: 90.279\n",
      "Imputing row 2401/16009 with 0 missing, elapsed time: 90.285\n",
      "Imputing row 2501/16009 with 0 missing, elapsed time: 90.292\n",
      "Imputing row 2601/16009 with 0 missing, elapsed time: 90.296\n",
      "Imputing row 2701/16009 with 0 missing, elapsed time: 90.300\n",
      "Imputing row 2801/16009 with 0 missing, elapsed time: 90.304\n",
      "Imputing row 2901/16009 with 0 missing, elapsed time: 90.311\n",
      "Imputing row 3001/16009 with 0 missing, elapsed time: 90.316\n",
      "Imputing row 3101/16009 with 0 missing, elapsed time: 90.320\n",
      "Imputing row 3201/16009 with 0 missing, elapsed time: 90.325\n",
      "Imputing row 3301/16009 with 0 missing, elapsed time: 90.329\n",
      "Imputing row 3401/16009 with 0 missing, elapsed time: 90.335\n",
      "Imputing row 3501/16009 with 0 missing, elapsed time: 90.345\n",
      "Imputing row 3601/16009 with 0 missing, elapsed time: 90.347\n",
      "Imputing row 3701/16009 with 0 missing, elapsed time: 90.352\n",
      "Imputing row 3801/16009 with 0 missing, elapsed time: 90.357\n",
      "Imputing row 3901/16009 with 0 missing, elapsed time: 90.367\n",
      "Imputing row 4001/16009 with 0 missing, elapsed time: 90.367\n",
      "Imputing row 4101/16009 with 0 missing, elapsed time: 90.374\n",
      "Imputing row 4201/16009 with 0 missing, elapsed time: 90.374\n",
      "Imputing row 4301/16009 with 1 missing, elapsed time: 90.378\n",
      "Imputing row 4401/16009 with 0 missing, elapsed time: 90.382\n",
      "Imputing row 4501/16009 with 0 missing, elapsed time: 90.394\n",
      "Imputing row 4601/16009 with 0 missing, elapsed time: 90.401\n",
      "Imputing row 4701/16009 with 0 missing, elapsed time: 90.406\n",
      "Imputing row 4801/16009 with 0 missing, elapsed time: 90.411\n",
      "Imputing row 4901/16009 with 0 missing, elapsed time: 90.415\n",
      "Imputing row 5001/16009 with 0 missing, elapsed time: 90.415\n",
      "Imputing row 5101/16009 with 0 missing, elapsed time: 90.420\n",
      "Imputing row 5201/16009 with 0 missing, elapsed time: 90.431\n",
      "Imputing row 5301/16009 with 0 missing, elapsed time: 90.431\n",
      "Imputing row 5401/16009 with 0 missing, elapsed time: 90.431\n",
      "Imputing row 5501/16009 with 0 missing, elapsed time: 90.441\n",
      "Imputing row 5601/16009 with 0 missing, elapsed time: 90.451\n",
      "Imputing row 5701/16009 with 0 missing, elapsed time: 90.456\n",
      "Imputing row 5801/16009 with 0 missing, elapsed time: 90.458\n",
      "Imputing row 5901/16009 with 0 missing, elapsed time: 90.464\n",
      "Imputing row 6001/16009 with 0 missing, elapsed time: 90.473\n",
      "Imputing row 6101/16009 with 0 missing, elapsed time: 90.478\n",
      "Imputing row 6201/16009 with 0 missing, elapsed time: 90.484\n",
      "Imputing row 6301/16009 with 0 missing, elapsed time: 90.491\n",
      "Imputing row 6401/16009 with 0 missing, elapsed time: 90.492\n",
      "Imputing row 6501/16009 with 0 missing, elapsed time: 90.492\n",
      "Imputing row 6601/16009 with 4 missing, elapsed time: 90.496\n",
      "Imputing row 6701/16009 with 0 missing, elapsed time: 90.502\n",
      "Imputing row 6801/16009 with 0 missing, elapsed time: 90.506\n",
      "Imputing row 6901/16009 with 0 missing, elapsed time: 90.508\n",
      "Imputing row 7001/16009 with 0 missing, elapsed time: 90.516\n",
      "Imputing row 7101/16009 with 0 missing, elapsed time: 90.516\n",
      "Imputing row 7201/16009 with 0 missing, elapsed time: 90.520\n",
      "Imputing row 7301/16009 with 0 missing, elapsed time: 90.523\n",
      "Imputing row 7401/16009 with 0 missing, elapsed time: 90.529\n",
      "Imputing row 7501/16009 with 0 missing, elapsed time: 90.536\n",
      "Imputing row 7601/16009 with 0 missing, elapsed time: 90.536\n",
      "Imputing row 7701/16009 with 0 missing, elapsed time: 90.540\n",
      "Imputing row 7801/16009 with 0 missing, elapsed time: 90.544\n",
      "Imputing row 7901/16009 with 0 missing, elapsed time: 90.544\n",
      "Imputing row 8001/16009 with 0 missing, elapsed time: 90.550\n",
      "Imputing row 8101/16009 with 0 missing, elapsed time: 90.551\n",
      "Imputing row 8201/16009 with 0 missing, elapsed time: 90.556\n",
      "Imputing row 8301/16009 with 0 missing, elapsed time: 90.560\n",
      "Imputing row 8401/16009 with 0 missing, elapsed time: 90.560\n",
      "Imputing row 8501/16009 with 0 missing, elapsed time: 90.564\n",
      "Imputing row 8601/16009 with 0 missing, elapsed time: 90.569\n",
      "Imputing row 8701/16009 with 0 missing, elapsed time: 90.573\n",
      "Imputing row 8801/16009 with 0 missing, elapsed time: 90.576\n",
      "Imputing row 8901/16009 with 0 missing, elapsed time: 90.577\n",
      "Imputing row 9001/16009 with 0 missing, elapsed time: 90.580\n",
      "Imputing row 9101/16009 with 0 missing, elapsed time: 90.580\n",
      "Imputing row 9201/16009 with 0 missing, elapsed time: 90.584\n",
      "Imputing row 9301/16009 with 0 missing, elapsed time: 90.584\n",
      "Imputing row 9401/16009 with 0 missing, elapsed time: 90.588\n",
      "Imputing row 9501/16009 with 0 missing, elapsed time: 90.588\n",
      "Imputing row 9601/16009 with 0 missing, elapsed time: 90.590\n",
      "Imputing row 9701/16009 with 0 missing, elapsed time: 90.594\n",
      "Imputing row 9801/16009 with 0 missing, elapsed time: 90.598\n",
      "Imputing row 9901/16009 with 0 missing, elapsed time: 90.602\n",
      "Imputing row 10001/16009 with 0 missing, elapsed time: 90.604\n",
      "Imputing row 10101/16009 with 0 missing, elapsed time: 90.606\n",
      "Imputing row 10201/16009 with 0 missing, elapsed time: 90.607\n",
      "Imputing row 10301/16009 with 0 missing, elapsed time: 90.609\n",
      "Imputing row 10401/16009 with 0 missing, elapsed time: 90.609\n",
      "Imputing row 10501/16009 with 0 missing, elapsed time: 90.615\n",
      "Imputing row 10601/16009 with 0 missing, elapsed time: 90.616\n",
      "Imputing row 10701/16009 with 0 missing, elapsed time: 90.616\n",
      "Imputing row 10801/16009 with 0 missing, elapsed time: 90.616\n",
      "Imputing row 10901/16009 with 0 missing, elapsed time: 90.620\n",
      "Imputing row 11001/16009 with 0 missing, elapsed time: 90.621\n",
      "Imputing row 11101/16009 with 0 missing, elapsed time: 90.622\n",
      "Imputing row 11201/16009 with 0 missing, elapsed time: 90.623\n",
      "Imputing row 11301/16009 with 0 missing, elapsed time: 90.627\n",
      "Imputing row 11401/16009 with 0 missing, elapsed time: 90.627\n",
      "Imputing row 11501/16009 with 0 missing, elapsed time: 90.631\n",
      "Imputing row 11601/16009 with 4 missing, elapsed time: 90.632\n",
      "Imputing row 11701/16009 with 0 missing, elapsed time: 90.636\n",
      "Imputing row 11801/16009 with 0 missing, elapsed time: 90.636\n",
      "Imputing row 11901/16009 with 0 missing, elapsed time: 90.640\n",
      "Imputing row 12001/16009 with 0 missing, elapsed time: 90.642\n",
      "Imputing row 12101/16009 with 0 missing, elapsed time: 90.642\n",
      "Imputing row 12201/16009 with 0 missing, elapsed time: 90.642\n",
      "Imputing row 12301/16009 with 0 missing, elapsed time: 90.648\n",
      "Imputing row 12401/16009 with 0 missing, elapsed time: 90.648\n",
      "Imputing row 12501/16009 with 0 missing, elapsed time: 90.648\n",
      "Imputing row 12601/16009 with 0 missing, elapsed time: 90.652\n",
      "Imputing row 12701/16009 with 4 missing, elapsed time: 90.656\n",
      "Imputing row 12801/16009 with 0 missing, elapsed time: 90.657\n",
      "Imputing row 12901/16009 with 0 missing, elapsed time: 90.661\n",
      "Imputing row 13001/16009 with 0 missing, elapsed time: 90.665\n",
      "Imputing row 13101/16009 with 0 missing, elapsed time: 90.669\n",
      "Imputing row 13201/16009 with 0 missing, elapsed time: 90.674\n",
      "Imputing row 13301/16009 with 0 missing, elapsed time: 90.680\n",
      "Imputing row 13401/16009 with 0 missing, elapsed time: 90.685\n",
      "Imputing row 13501/16009 with 0 missing, elapsed time: 90.689\n",
      "Imputing row 13601/16009 with 0 missing, elapsed time: 90.691\n",
      "Imputing row 13701/16009 with 0 missing, elapsed time: 90.693\n",
      "Imputing row 13801/16009 with 4 missing, elapsed time: 90.696\n",
      "Imputing row 13901/16009 with 0 missing, elapsed time: 90.700\n",
      "Imputing row 14001/16009 with 0 missing, elapsed time: 90.704\n",
      "Imputing row 14101/16009 with 0 missing, elapsed time: 90.708\n",
      "Imputing row 14201/16009 with 0 missing, elapsed time: 90.711\n",
      "Imputing row 14301/16009 with 0 missing, elapsed time: 90.714\n",
      "Imputing row 14401/16009 with 0 missing, elapsed time: 90.714\n",
      "Imputing row 14501/16009 with 0 missing, elapsed time: 90.715\n",
      "Imputing row 14601/16009 with 0 missing, elapsed time: 90.716\n",
      "Imputing row 14701/16009 with 0 missing, elapsed time: 90.720\n",
      "Imputing row 14801/16009 with 0 missing, elapsed time: 90.721\n",
      "Imputing row 14901/16009 with 0 missing, elapsed time: 90.723\n",
      "Imputing row 15001/16009 with 0 missing, elapsed time: 90.725\n",
      "Imputing row 15101/16009 with 0 missing, elapsed time: 90.726\n",
      "Imputing row 15201/16009 with 0 missing, elapsed time: 90.728\n",
      "Imputing row 15301/16009 with 0 missing, elapsed time: 90.729\n",
      "Imputing row 15401/16009 with 0 missing, elapsed time: 90.732\n",
      "Imputing row 15501/16009 with 0 missing, elapsed time: 90.732\n",
      "Imputing row 15601/16009 with 0 missing, elapsed time: 90.734\n",
      "Imputing row 15701/16009 with 0 missing, elapsed time: 90.735\n",
      "Imputing row 15801/16009 with 0 missing, elapsed time: 90.737\n",
      "Imputing row 15901/16009 with 0 missing, elapsed time: 90.740\n",
      "Imputing row 16001/16009 with 0 missing, elapsed time: 90.743\n"
     ]
    }
   ],
   "source": [
    "#imputing with KNN\n",
    "cabfare=pd.DataFrame(KNN(k=5).fit_transform(cabfare),columns=cabfare.columns, index=cabfare.index)"
   ]
  },
  {
   "cell_type": "code",
   "execution_count": 121,
   "metadata": {},
   "outputs": [
    {
     "data": {
      "text/plain": [
       "<matplotlib.axes._subplots.AxesSubplot at 0x1975ee70c88>"
      ]
     },
     "execution_count": 121,
     "metadata": {},
     "output_type": "execute_result"
    },
    {
     "data": {
      "image/png": "[encoded data removed]",
      "text/plain": [
       "<Figure size 432x288 with 2 Axes>"
      ]
     },
     "metadata": {
      "needs_background": "light"
     },
     "output_type": "display_data"
    }
   ],
   "source": [
    "sns.heatmap(cabfare.isnull(), cbar=True)"
   ]
  },
  {
   "cell_type": "code",
   "execution_count": 122,
   "metadata": {},
   "outputs": [],
   "source": [
    "cabfare['passenger_count']=cabfare['passenger_count'].astype(int)\n",
    "cabfare['year']=cabfare['year'].astype(int)\n",
    "cabfare['weekday']=cabfare['weekday'].astype(int)\n",
    "cabfare['hour']=cabfare['hour'].astype(int)\n",
    "cabfare['month']=cabfare['month'].astype(int)"
   ]
  },
  {
   "cell_type": "markdown",
   "metadata": {},
   "source": [
    " "
   ]
  },
  {
   "cell_type": "code",
   "execution_count": null,
   "metadata": {},
   "outputs": [],
   "source": []
  },
  {
   "cell_type": "markdown",
   "metadata": {},
   "source": [
    "## Visitualisation & Feature Engineering "
   ]
  },
  {
   "cell_type": "code",
   "execution_count": 123,
   "metadata": {},
   "outputs": [],
   "source": [
    "cabfare['abs_longi']=abs(cabfare['pickup_longitude']-cabfare['dropoff_longitude'])\n",
    "cabfare['abs_lat']=abs(cabfare['pickup_latitude']-cabfare['dropoff_latitude'])"
   ]
  },
  {
   "cell_type": "code",
   "execution_count": 124,
   "metadata": {},
   "outputs": [
    {
     "data": {
      "text/html": [
       "<div>\n",
       "<style scoped>\n",
       "    .dataframe tbody tr th:only-of-type {\n",
       "        vertical-align: middle;\n",
       "    }\n",
       "\n",
       "    .dataframe tbody tr th {\n",
       "        vertical-align: top;\n",
       "    }\n",
       "\n",
       "    .dataframe thead th {\n",
       "        text-align: right;\n",
       "    }\n",
       "</style>\n",
       "<table border=\"1\" class=\"dataframe\">\n",
       "  <thead>\n",
       "    <tr style=\"text-align: right;\">\n",
       "      <th></th>\n",
       "      <th>fare_amount</th>\n",
       "      <th>pickup_longitude</th>\n",
       "      <th>pickup_latitude</th>\n",
       "      <th>dropoff_longitude</th>\n",
       "      <th>dropoff_latitude</th>\n",
       "      <th>passenger_count</th>\n",
       "      <th>year</th>\n",
       "      <th>month</th>\n",
       "      <th>weekday</th>\n",
       "      <th>hour</th>\n",
       "      <th>abs_longi</th>\n",
       "      <th>abs_lat</th>\n",
       "      <th>distance</th>\n",
       "    </tr>\n",
       "  </thead>\n",
       "  <tbody>\n",
       "    <tr>\n",
       "      <td>0</td>\n",
       "      <td>4.5</td>\n",
       "      <td>-73.844311</td>\n",
       "      <td>40.721319</td>\n",
       "      <td>-73.841610</td>\n",
       "      <td>40.712278</td>\n",
       "      <td>1</td>\n",
       "      <td>2009</td>\n",
       "      <td>6</td>\n",
       "      <td>0</td>\n",
       "      <td>17</td>\n",
       "      <td>0.002701</td>\n",
       "      <td>0.009041</td>\n",
       "      <td>1.030764</td>\n",
       "    </tr>\n",
       "    <tr>\n",
       "      <td>1</td>\n",
       "      <td>16.9</td>\n",
       "      <td>-74.016048</td>\n",
       "      <td>40.711303</td>\n",
       "      <td>-73.979268</td>\n",
       "      <td>40.782004</td>\n",
       "      <td>1</td>\n",
       "      <td>2010</td>\n",
       "      <td>1</td>\n",
       "      <td>1</td>\n",
       "      <td>16</td>\n",
       "      <td>0.036780</td>\n",
       "      <td>0.070701</td>\n",
       "      <td>8.450134</td>\n",
       "    </tr>\n",
       "    <tr>\n",
       "      <td>2</td>\n",
       "      <td>5.7</td>\n",
       "      <td>-73.982738</td>\n",
       "      <td>40.761270</td>\n",
       "      <td>-73.991242</td>\n",
       "      <td>40.750562</td>\n",
       "      <td>2</td>\n",
       "      <td>2011</td>\n",
       "      <td>8</td>\n",
       "      <td>3</td>\n",
       "      <td>0</td>\n",
       "      <td>0.008504</td>\n",
       "      <td>0.010708</td>\n",
       "      <td>1.389525</td>\n",
       "    </tr>\n",
       "    <tr>\n",
       "      <td>3</td>\n",
       "      <td>7.7</td>\n",
       "      <td>-73.987130</td>\n",
       "      <td>40.733143</td>\n",
       "      <td>-73.991567</td>\n",
       "      <td>40.758092</td>\n",
       "      <td>1</td>\n",
       "      <td>2012</td>\n",
       "      <td>4</td>\n",
       "      <td>5</td>\n",
       "      <td>4</td>\n",
       "      <td>0.004437</td>\n",
       "      <td>0.024949</td>\n",
       "      <td>2.799270</td>\n",
       "    </tr>\n",
       "    <tr>\n",
       "      <td>4</td>\n",
       "      <td>5.3</td>\n",
       "      <td>-73.968095</td>\n",
       "      <td>40.768008</td>\n",
       "      <td>-73.956655</td>\n",
       "      <td>40.783762</td>\n",
       "      <td>1</td>\n",
       "      <td>2010</td>\n",
       "      <td>3</td>\n",
       "      <td>1</td>\n",
       "      <td>7</td>\n",
       "      <td>0.011440</td>\n",
       "      <td>0.015754</td>\n",
       "      <td>1.999157</td>\n",
       "    </tr>\n",
       "  </tbody>\n",
       "</table>\n",
       "</div>"
      ],
      "text/plain": [
       "   fare_amount  pickup_longitude  pickup_latitude  dropoff_longitude  \\\n",
       "0          4.5        -73.844311        40.721319         -73.841610   \n",
       "1         16.9        -74.016048        40.711303         -73.979268   \n",
       "2          5.7        -73.982738        40.761270         -73.991242   \n",
       "3          7.7        -73.987130        40.733143         -73.991567   \n",
       "4          5.3        -73.968095        40.768008         -73.956655   \n",
       "\n",
       "   dropoff_latitude  passenger_count  year  month  weekday  hour  abs_longi  \\\n",
       "0         40.712278                1  2009      6        0    17   0.002701   \n",
       "1         40.782004                1  2010      1        1    16   0.036780   \n",
       "2         40.750562                2  2011      8        3     0   0.008504   \n",
       "3         40.758092                1  2012      4        5     4   0.004437   \n",
       "4         40.783762                1  2010      3        1     7   0.011440   \n",
       "\n",
       "    abs_lat  distance  \n",
       "0  0.009041  1.030764  \n",
       "1  0.070701  8.450134  \n",
       "2  0.010708  1.389525  \n",
       "3  0.024949  2.799270  \n",
       "4  0.015754  1.999157  "
      ]
     },
     "execution_count": 124,
     "metadata": {},
     "output_type": "execute_result"
    }
   ],
   "source": [
    "#Calculatig distance from log and lati with great circle formula\n",
    "def great_circle_distance(lon1,lat1,lon2,lat2):\n",
    "    R = 6371000 # Approximate mean radius of earth (in m)\n",
    "    \n",
    "    # Convert decimal degrees to ridians\n",
    "    lon1,lat1,lon2,lat2 = map(np.radians, [lon1, lat1, lon2, lat2])\n",
    "    \n",
    "    # Distance of lons and lats in radians\n",
    "    dis_lon = lon2 - lon1\n",
    "    dis_lat = lat2 - lat1\n",
    "    \n",
    "    # Haversine implementation\n",
    "    a = np.sin(dis_lat/2)**2 + np.cos(lat1) * np.cos(lat2) * np.sin(dis_lon/2)**2\n",
    "    c = 2*np.arctan2(np.sqrt(a), np.sqrt(1-a))\n",
    "    dis_m = R*c # Distance in meters\n",
    "    dis_km = dis_m/1000 # Distance in km\n",
    "    return dis_km\n",
    "cabfare['distance'] = great_circle_distance(cabfare.pickup_longitude, cabfare.pickup_latitude, cabfare.dropoff_longitude, cabfare.dropoff_latitude)\n",
    "cabfare.head(5)"
   ]
  },
  {
   "cell_type": "code",
   "execution_count": 125,
   "metadata": {},
   "outputs": [
    {
     "data": {
      "image/png": "[encoded data removed]",
      "text/plain": [
       "<Figure size 1080x720 with 9 Axes>"
      ]
     },
     "metadata": {
      "needs_background": "light"
     },
     "output_type": "display_data"
    }
   ],
   "source": [
    "fig_size = plt.rcParams['figure.figsize']\n",
    "fig_size[0] = 15\n",
    "fig_size[1] = 10\n",
    "\n",
    "plt.subplot(3,4,1)\n",
    "plt.boxplot(cabfare['fare_amount'])\n",
    "plt.title('fare_amount')\n",
    "\n",
    "plt.subplot(3,4,2)\n",
    "plt.boxplot(cabfare['dropoff_longitude'])\n",
    "plt.title('dropoff_longitude')\n",
    "\n",
    "plt.subplot(3,4,3)\n",
    "plt.boxplot(cabfare['dropoff_latitude'])\n",
    "plt.title('dropoff_latitude')\n",
    "\n",
    "plt.subplot(3,4,4)\n",
    "plt.boxplot(cabfare['passenger_count'])\n",
    "plt.title('passenger_count')\n",
    "\n",
    "plt.subplot(3,4,5)\n",
    "plt.boxplot(cabfare['pickup_latitude'])\n",
    "plt.title('pickup_latitude')\n",
    "\n",
    "plt.subplot(3,4,6)\n",
    "plt.boxplot(cabfare['pickup_longitude'])\n",
    "plt.title('pickup_longitude')\n",
    "\n",
    "plt.subplot(3,4,7)\n",
    "plt.boxplot(cabfare['abs_longi'])\n",
    "plt.title('abs_longi')\n",
    "\n",
    "plt.subplot(3,4,8)\n",
    "plt.boxplot(cabfare['abs_lat'])\n",
    "plt.title('abs_lat')\n",
    "\n",
    "plt.subplot(3,4,9)\n",
    "plt.boxplot(cabfare['distance'])\n",
    "plt.title('distance')\n",
    "\n",
    "plt.tight_layout()"
   ]
  },
  {
   "cell_type": "code",
   "execution_count": 126,
   "metadata": {},
   "outputs": [
    {
     "data": {
      "text/plain": [
       "(16009, 13)"
      ]
     },
     "execution_count": 126,
     "metadata": {},
     "output_type": "execute_result"
    }
   ],
   "source": [
    "cabfare.shape"
   ]
  },
  {
   "cell_type": "markdown",
   "metadata": {},
   "source": [
    "## Feature Selection"
   ]
  },
  {
   "cell_type": "code",
   "execution_count": 127,
   "metadata": {},
   "outputs": [
    {
     "data": {
      "text/plain": [
       "<matplotlib.axes._subplots.AxesSubplot at 0x19760f48f08>"
      ]
     },
     "execution_count": 127,
     "metadata": {},
     "output_type": "execute_result"
    },
    {
     "data": {
      "image/png": "[encoded data removed]",
      "text/plain": [
       "<Figure size 576x360 with 2 Axes>"
      ]
     },
     "metadata": {},
     "output_type": "display_data"
    }
   ],
   "source": [
    "sns.set(rc={'figure.figsize':(8,5)})\n",
    "\n",
    "cabfare['passenger_count'] = cabfare['passenger_count'].astype(int)\n",
    "colname = ['distance','abs_longi','abs_lat','fare_amount','passenger_count']\n",
    "heat_map = cabfare[colname]\n",
    "sns.heatmap(heat_map.corr(), vmin=-1.00, vmax=1.00, annot=True)"
   ]
  },
  {
   "cell_type": "code",
   "execution_count": 128,
   "metadata": {},
   "outputs": [],
   "source": [
    "#considering taxi ride is limited to certain distance will keep this at 100Km\n",
    "cabfare = cabfare[cabfare[\"distance\"] < 100]\n",
    "cabfare = cabfare[cabfare[\"distance\"] > 0]\n",
    "\n",
    "#Droping the 66.00839 from abs_longi and 39.99361 from abs_lat which is not contributing much but just a noice, which i understood from my visualization\n",
    "cabfare['abs_longi'] = cabfare['abs_longi'].replace(66.00839, np.nan)\n",
    "cabfare['abs_lat'] = cabfare['abs_lat'].replace(39.99361, np.nan)\n",
    "\n",
    "cabfare = cabfare.dropna(subset=['abs_longi'])\n",
    "cabfare = cabfare.dropna(subset=['abs_lat'])"
   ]
  },
  {
   "cell_type": "code",
   "execution_count": 129,
   "metadata": {},
   "outputs": [
    {
     "name": "stdout",
     "output_type": "stream",
     "text": [
      "Skewness: 2.951269\n"
     ]
    }
   ],
   "source": [
    "print(\"Skewness: %f\" % cabfare['fare_amount'].skew())"
   ]
  },
  {
   "cell_type": "code",
   "execution_count": 130,
   "metadata": {},
   "outputs": [
    {
     "data": {
      "text/plain": [
       "Text(0, 0.5, 'Importance')"
      ]
     },
     "execution_count": 130,
     "metadata": {},
     "output_type": "execute_result"
    },
    {
     "data": {
      "image/png": "[encoded data removed]",
      "text/plain": [
       "<Figure size 576x360 with 1 Axes>"
      ]
     },
     "metadata": {},
     "output_type": "display_data"
    }
   ],
   "source": [
    "names=list(cabfare)\n",
    "names = names[4:12]\n",
    "\n",
    "fea = RandomForestRegressor(n_estimators = 100, random_state = 126).fit(cabfare.iloc[:,4:12],cabfare.iloc[:,12])\n",
    "\n",
    "sns.barplot(x = names ,y = fea.feature_importances_)  \n",
    "\n",
    "plt.title('Feature Importance')\n",
    "plt.xlabel('Features')\n",
    "plt.ylabel('Importance')"
   ]
  },
  {
   "cell_type": "code",
   "execution_count": 131,
   "metadata": {},
   "outputs": [],
   "source": [
    "#function for printing all variables for normalization analysis\\n\",\n",
    "def plot_displot(df1,features):\n",
    "    q = 0\n",
    "    sns.set_style('whitegrid')\n",
    "    plt.figure()\n",
    "    fig, ax = plt.subplots(1,2,figsize=(15,15))\n",
    "    for feature in features:\n",
    "        q += 1\n",
    "        plt.subplot(2,2,q)\n",
    "        sns.distplot(df1[feature])\n",
    "        plt.xlabel(feature, fontsize=9)\n",
    "    plt.show(); "
   ]
  },
  {
   "cell_type": "code",
   "execution_count": 132,
   "metadata": {},
   "outputs": [
    {
     "data": {
      "text/plain": [
       "array([[<matplotlib.axes._subplots.AxesSubplot object at 0x000001975E64E488>,\n",
       "        <matplotlib.axes._subplots.AxesSubplot object at 0x000001975FFF16C8>,\n",
       "        <matplotlib.axes._subplots.AxesSubplot object at 0x0000019760029488>],\n",
       "       [<matplotlib.axes._subplots.AxesSubplot object at 0x00000197600625C8>,\n",
       "        <matplotlib.axes._subplots.AxesSubplot object at 0x00000197600996C8>,\n",
       "        <matplotlib.axes._subplots.AxesSubplot object at 0x00000197600D17C8>],\n",
       "       [<matplotlib.axes._subplots.AxesSubplot object at 0x000001976010B8C8>,\n",
       "        <matplotlib.axes._subplots.AxesSubplot object at 0x00000197609C5A08>,\n",
       "        <matplotlib.axes._subplots.AxesSubplot object at 0x00000197609CE608>],\n",
       "       [<matplotlib.axes._subplots.AxesSubplot object at 0x0000019760A067C8>,\n",
       "        <matplotlib.axes._subplots.AxesSubplot object at 0x0000019760A6CD48>,\n",
       "        <matplotlib.axes._subplots.AxesSubplot object at 0x000001975EA541C8>]],\n",
       "      dtype=object)"
      ]
     },
     "execution_count": 132,
     "metadata": {},
     "output_type": "execute_result"
    },
    {
     "data": {
      "image/png": "[encoded data removed]",
      "text/plain": [
       "<Figure size 576x360 with 12 Axes>"
      ]
     },
     "metadata": {},
     "output_type": "display_data"
    }
   ],
   "source": [
    "#Normality check\n",
    "#cnames = [\"fare_amount\",\"distance\",\"dropoff_longitude\",\"dropoff_latitude\",\"passenger_count\",\"pickup_latitude\",\"pickup_longitude\",\"abs_longi\",\"abs_lat\"]\n",
    "cnames = cabfare.iloc[:,0:12]\n",
    "df=  pd.DataFrame(cnames)\n",
    "df.to_csv( \"normal.csv\",index = False)\n",
    "data = pd.read_csv(\"normal.csv\")\n",
    "data.hist()"
   ]
  },
  {
   "cell_type": "code",
   "execution_count": 133,
   "metadata": {},
   "outputs": [
    {
     "name": "stdout",
     "output_type": "stream",
     "text": [
      "distance\n",
      "year\n",
      "month\n",
      "weekday\n",
      "hour\n",
      "abs_longi\n",
      "abs_lat\n",
      "passenger_count\n"
     ]
    }
   ],
   "source": [
    "#Normalisation\n",
    "cnames = [\"distance\",\"year\",\"month\",\"weekday\",\"hour\",\"abs_longi\",\"abs_lat\",\"passenger_count\"]\n",
    "for i in cnames:\n",
    "    print(i)\n",
    "    cabfare[i] = (cabfare[i] - min(cabfare[i]))/(max(cabfare[i]) - min(cabfare[i]))"
   ]
  },
  {
   "cell_type": "code",
   "execution_count": 134,
   "metadata": {},
   "outputs": [
    {
     "data": {
      "text/plain": [
       "(15847, 13)"
      ]
     },
     "execution_count": 134,
     "metadata": {},
     "output_type": "execute_result"
    }
   ],
   "source": [
    "cabfare.shape"
   ]
  },
  {
   "cell_type": "code",
   "execution_count": null,
   "metadata": {},
   "outputs": [],
   "source": []
  },
  {
   "cell_type": "markdown",
   "metadata": {},
   "source": [
    "## Modeling"
   ]
  },
  {
   "cell_type": "code",
   "execution_count": 135,
   "metadata": {},
   "outputs": [],
   "source": [
    "# Modeling \n",
    "from sklearn import metrics\n",
    "#function to check performance  \n",
    "def performance(actual, predict):\n",
    "    print('MSE:', metrics.mean_squared_error(actual, predict)) \n",
    "    print('RMSE:', np.sqrt(metrics.mean_squared_error(actual, predict))) \n",
    "    print('MAPE:',np.mean(np.abs((actual-predict)/actual))*100)\n",
    "    print('R-Sq:', metrics.r2_score(actual, predict))"
   ]
  },
  {
   "cell_type": "code",
   "execution_count": 136,
   "metadata": {},
   "outputs": [
    {
     "data": {
      "text/plain": [
       "((15847, 13), (3962, 13), (11885, 13))"
      ]
     },
     "execution_count": 136,
     "metadata": {},
     "output_type": "execute_result"
    }
   ],
   "source": [
    "##Sampling\n",
    "##Sampling: dividing  Test and train data \n",
    "from sklearn.model_selection import train_test_split,KFold, cross_val_score, cross_val_predict\n",
    "import copy\n",
    "#moving the amount to last variable\n",
    "cabfare['amount']= copy.copy(cabfare['fare_amount'])\n",
    "cabfare = cabfare.drop(['fare_amount'], axis=1)\n",
    "\n",
    "#Random sample selection \n",
    "train, test = train_test_split(cabfare, test_size = 0.25, random_state = 100)\n",
    "cabfare.shape, test.shape , train.shape, #Gtest.shape"
   ]
  },
  {
   "cell_type": "markdown",
   "metadata": {},
   "source": [
    " ## 1.Decision Tree "
   ]
  },
  {
   "cell_type": "code",
   "execution_count": 137,
   "metadata": {},
   "outputs": [
    {
     "name": "stdout",
     "output_type": "stream",
     "text": [
      "MSE: 22.59741401816809\n",
      "RMSE: 4.753673739137772\n",
      "MAPE: 24.479560980812174\n",
      "R-Sq: 0.7615780761803278\n",
      "                           \n",
      "Perdicted Vs Actual value: \n"
     ]
    },
    {
     "data": {
      "text/plain": [
       "(9.965039370078754, 9.7)"
      ]
     },
     "execution_count": 137,
     "metadata": {},
     "output_type": "execute_result"
    }
   ],
   "source": [
    "dt2 = DecisionTreeRegressor(max_depth =5, random_state=123).fit(train.iloc[:,4:12],train.iloc[:,12])\n",
    "prediction_dt2 = dt2.predict(test.iloc[:,4:12])\n",
    "\n",
    "#error matrix\n",
    "performance(test.iloc[:,12],prediction_dt2)\n",
    "print('                           ')\n",
    "print('Perdicted Vs Actual value: ')\n",
    "prediction_dt2[1], test.iloc[1,12]"
   ]
  },
  {
   "cell_type": "code",
   "execution_count": 138,
   "metadata": {},
   "outputs": [
    {
     "data": {
      "text/plain": [
       "0.8327476465586343"
      ]
     },
     "execution_count": 138,
     "metadata": {},
     "output_type": "execute_result"
    }
   ],
   "source": [
    "dt2.score(train.iloc[:,4:12],train.iloc[:,12])"
   ]
  },
  {
   "cell_type": "code",
   "execution_count": null,
   "metadata": {},
   "outputs": [],
   "source": []
  },
  {
   "cell_type": "markdown",
   "metadata": {},
   "source": [
    "## 2. Random Forest"
   ]
  },
  {
   "cell_type": "code",
   "execution_count": 139,
   "metadata": {},
   "outputs": [],
   "source": [
    "#Random sample selection \n",
    "train1, test1 = train_test_split(cabfare, test_size = 0.25, random_state = 500)"
   ]
  },
  {
   "cell_type": "code",
   "execution_count": 140,
   "metadata": {},
   "outputs": [
    {
     "name": "stdout",
     "output_type": "stream",
     "text": [
      "MSE: 15.044944482160256\n",
      "RMSE: 3.8787813140418543\n",
      "MAPE: 22.665488144452773\n",
      "R-Sq: 0.8198085296521344\n",
      "                           \n",
      "Perdicted Vs Actual value: \n"
     ]
    },
    {
     "data": {
      "text/plain": [
       "(30.026480000000017, 28.1)"
      ]
     },
     "execution_count": 140,
     "metadata": {},
     "output_type": "execute_result"
    }
   ],
   "source": [
    "from sklearn.ensemble import RandomForestRegressor\n",
    "rf2 = RandomForestRegressor(n_estimators = 500, random_state = 126).fit(train1.iloc[:,4:12],train1.iloc[:,12])\n",
    "prediction_rf2 = rf2.predict(test1.iloc[:,4:12])\n",
    "\n",
    "#error matrix\n",
    "performance(test1.iloc[:,12],prediction_rf2)\n",
    "print('                           ')\n",
    "print('Perdicted Vs Actual value: ')\n",
    "prediction_rf2[1], test1.iloc[1,12]"
   ]
  },
  {
   "cell_type": "code",
   "execution_count": 141,
   "metadata": {},
   "outputs": [
    {
     "data": {
      "text/plain": [
       "0.9748056326115163"
      ]
     },
     "execution_count": 141,
     "metadata": {},
     "output_type": "execute_result"
    }
   ],
   "source": [
    "rf2.score(train1.iloc[:,4:12],train1.iloc[:,12])"
   ]
  },
  {
   "cell_type": "code",
   "execution_count": null,
   "metadata": {},
   "outputs": [],
   "source": []
  },
  {
   "cell_type": "markdown",
   "metadata": {},
   "source": [
    "## 3.Linear Regression"
   ]
  },
  {
   "cell_type": "code",
   "execution_count": 142,
   "metadata": {},
   "outputs": [],
   "source": [
    "#Random sample selection \n",
    "train2, test2 = train_test_split(cabfare, test_size = 0.25, random_state = 100)"
   ]
  },
  {
   "cell_type": "code",
   "execution_count": 143,
   "metadata": {},
   "outputs": [
    {
     "name": "stdout",
     "output_type": "stream",
     "text": [
      "MSE: 26.883175203959812\n",
      "RMSE: 5.18489876506377\n",
      "MAPE: 26.886085129363902\n",
      "R-Sq: 0.7163596531286189\n",
      "                           \n",
      "Perdicted Vs Actual value: \n"
     ]
    },
    {
     "data": {
      "text/plain": [
       "(10.46119589689815, 9.7)"
      ]
     },
     "execution_count": 143,
     "metadata": {},
     "output_type": "execute_result"
    }
   ],
   "source": [
    "from sklearn.linear_model import LinearRegression\n",
    "from sklearn import linear_model\n",
    "\n",
    "ln3 = LinearRegression().fit(train2.iloc[:,4:12],train2.iloc[:,12])\n",
    "prediction_slr3 = ln3.predict(test2.iloc[:,4:12])\n",
    "\n",
    "#error matrix\n",
    "performance(test2.iloc[:,12],prediction_slr3)\n",
    "print('                           ')\n",
    "print('Perdicted Vs Actual value: ')\n",
    "prediction_slr3[1], test2.iloc[1,12]"
   ]
  },
  {
   "cell_type": "code",
   "execution_count": 144,
   "metadata": {},
   "outputs": [
    {
     "data": {
      "text/plain": [
       "0.6561606144278074"
      ]
     },
     "execution_count": 144,
     "metadata": {},
     "output_type": "execute_result"
    }
   ],
   "source": [
    "ln3.score(train2.iloc[:,4:12],train2.iloc[:,12])"
   ]
  },
  {
   "cell_type": "markdown",
   "metadata": {},
   "source": [
    "## Visualisation For Actual vs Predict"
   ]
  },
  {
   "cell_type": "code",
   "execution_count": 145,
   "metadata": {},
   "outputs": [
    {
     "data": {
      "text/plain": [
       "Text(0, 0.5, 'Predicted values')"
      ]
     },
     "execution_count": 145,
     "metadata": {},
     "output_type": "execute_result"
    },
    {
     "data": {
      "image/png": "[encoded data removed]",
      "text/plain": [
       "<Figure size 1008x576 with 3 Axes>"
      ]
     },
     "metadata": {},
     "output_type": "display_data"
    }
   ],
   "source": [
    "plt.figure(figsize=(14,8))\n",
    "plt.subplot(2,2,1)\n",
    "plt.title('Decision Tree predictions with all variables ')\n",
    "plt.scatter(test.iloc[:,12] , prediction_dt2)\n",
    "plt.xlabel('Actual values')\n",
    "plt.ylabel('Predicted values')\n",
    "\n",
    "plt.subplot(2,2,2)\n",
    "plt.title('Random Forest predictions with all variables ')\n",
    "plt.scatter(test1.iloc[:,12] , prediction_rf2)\n",
    "plt.xlabel('Actual values')\n",
    "plt.ylabel('Predicted values')\n",
    "\n",
    "plt.subplot(2,2,3)\n",
    "plt.title('Linear Regression Predictions with all variables ')\n",
    "plt.scatter(test2.iloc[:,12] , prediction_slr3)\n",
    "plt.xlabel('Actual values')\n",
    "plt.ylabel('Predicted values')"
   ]
  },
  {
   "cell_type": "code",
   "execution_count": null,
   "metadata": {},
   "outputs": [],
   "source": []
  },
  {
   "cell_type": "markdown",
   "metadata": {},
   "source": [
    "# Implementation on Test dataset"
   ]
  },
  {
   "cell_type": "code",
   "execution_count": 146,
   "metadata": {},
   "outputs": [],
   "source": [
    "cabtest['pickup_datetime'] = pd.to_datetime(cabtest['pickup_datetime'], errors='coerce')\n",
    "cabtest = cabtest.dropna(subset=['pickup_datetime'])"
   ]
  },
  {
   "cell_type": "code",
   "execution_count": 147,
   "metadata": {},
   "outputs": [],
   "source": [
    "cabtest['year']=cabtest['pickup_datetime'].dt.year\n",
    "cabtest['month']=cabtest['pickup_datetime'].dt.month\n",
    "cabtest['weekday']=cabtest['pickup_datetime'].dt.weekday\n",
    "cabtest['hour']=cabtest['pickup_datetime'].dt.hour"
   ]
  },
  {
   "cell_type": "code",
   "execution_count": 148,
   "metadata": {},
   "outputs": [],
   "source": [
    "cabtest['abs_longi']=abs(cabtest['pickup_longitude']-cabtest['dropoff_longitude'])\n",
    "cabtest['abs_lat']=abs(cabtest['pickup_latitude']-cabtest['dropoff_latitude'])"
   ]
  },
  {
   "cell_type": "code",
   "execution_count": 149,
   "metadata": {},
   "outputs": [],
   "source": [
    "cabtest['distance'] = great_circle_distance(cabtest.pickup_longitude, cabtest.pickup_latitude, cabtest.dropoff_longitude, cabtest.dropoff_latitude)"
   ]
  },
  {
   "cell_type": "code",
   "execution_count": 150,
   "metadata": {},
   "outputs": [],
   "source": [
    "cabtest['passenger_count']=cabtest['passenger_count'].astype(int)\n",
    "cabtest['year']=cabtest['year'].astype(int)\n",
    "cabtest['weekday']=cabtest['weekday'].astype(int)\n",
    "cabtest['hour']=cabtest['hour'].astype(int)\n",
    "cabtest['month']=cabtest['month'].astype(int)"
   ]
  },
  {
   "cell_type": "code",
   "execution_count": 151,
   "metadata": {},
   "outputs": [
    {
     "data": {
      "text/html": [
       "<div>\n",
       "<style scoped>\n",
       "    .dataframe tbody tr th:only-of-type {\n",
       "        vertical-align: middle;\n",
       "    }\n",
       "\n",
       "    .dataframe tbody tr th {\n",
       "        vertical-align: top;\n",
       "    }\n",
       "\n",
       "    .dataframe thead th {\n",
       "        text-align: right;\n",
       "    }\n",
       "</style>\n",
       "<table border=\"1\" class=\"dataframe\">\n",
       "  <thead>\n",
       "    <tr style=\"text-align: right;\">\n",
       "      <th></th>\n",
       "      <th>pickup_datetime</th>\n",
       "      <th>pickup_longitude</th>\n",
       "      <th>pickup_latitude</th>\n",
       "      <th>dropoff_longitude</th>\n",
       "      <th>dropoff_latitude</th>\n",
       "      <th>passenger_count</th>\n",
       "      <th>year</th>\n",
       "      <th>month</th>\n",
       "      <th>weekday</th>\n",
       "      <th>hour</th>\n",
       "      <th>abs_longi</th>\n",
       "      <th>abs_lat</th>\n",
       "      <th>distance</th>\n",
       "    </tr>\n",
       "  </thead>\n",
       "  <tbody>\n",
       "    <tr>\n",
       "      <td>0</td>\n",
       "      <td>2015-01-27 13:08:24+00:00</td>\n",
       "      <td>-73.973320</td>\n",
       "      <td>40.763805</td>\n",
       "      <td>-73.981430</td>\n",
       "      <td>40.743835</td>\n",
       "      <td>1</td>\n",
       "      <td>2015</td>\n",
       "      <td>1</td>\n",
       "      <td>1</td>\n",
       "      <td>13</td>\n",
       "      <td>0.008110</td>\n",
       "      <td>0.019970</td>\n",
       "      <td>2.323259</td>\n",
       "    </tr>\n",
       "    <tr>\n",
       "      <td>1</td>\n",
       "      <td>2015-01-27 13:08:24+00:00</td>\n",
       "      <td>-73.986862</td>\n",
       "      <td>40.719383</td>\n",
       "      <td>-73.998886</td>\n",
       "      <td>40.739201</td>\n",
       "      <td>1</td>\n",
       "      <td>2015</td>\n",
       "      <td>1</td>\n",
       "      <td>1</td>\n",
       "      <td>13</td>\n",
       "      <td>0.012024</td>\n",
       "      <td>0.019817</td>\n",
       "      <td>2.425353</td>\n",
       "    </tr>\n",
       "    <tr>\n",
       "      <td>2</td>\n",
       "      <td>2011-10-08 11:53:44+00:00</td>\n",
       "      <td>-73.982524</td>\n",
       "      <td>40.751260</td>\n",
       "      <td>-73.979654</td>\n",
       "      <td>40.746139</td>\n",
       "      <td>1</td>\n",
       "      <td>2011</td>\n",
       "      <td>10</td>\n",
       "      <td>5</td>\n",
       "      <td>11</td>\n",
       "      <td>0.002870</td>\n",
       "      <td>0.005121</td>\n",
       "      <td>0.618628</td>\n",
       "    </tr>\n",
       "    <tr>\n",
       "      <td>3</td>\n",
       "      <td>2012-12-01 21:12:12+00:00</td>\n",
       "      <td>-73.981160</td>\n",
       "      <td>40.767807</td>\n",
       "      <td>-73.990448</td>\n",
       "      <td>40.751635</td>\n",
       "      <td>1</td>\n",
       "      <td>2012</td>\n",
       "      <td>12</td>\n",
       "      <td>5</td>\n",
       "      <td>21</td>\n",
       "      <td>0.009288</td>\n",
       "      <td>0.016172</td>\n",
       "      <td>1.961033</td>\n",
       "    </tr>\n",
       "    <tr>\n",
       "      <td>4</td>\n",
       "      <td>2012-12-01 21:12:12+00:00</td>\n",
       "      <td>-73.966046</td>\n",
       "      <td>40.789775</td>\n",
       "      <td>-73.988565</td>\n",
       "      <td>40.744427</td>\n",
       "      <td>1</td>\n",
       "      <td>2012</td>\n",
       "      <td>12</td>\n",
       "      <td>5</td>\n",
       "      <td>21</td>\n",
       "      <td>0.022519</td>\n",
       "      <td>0.045348</td>\n",
       "      <td>5.387301</td>\n",
       "    </tr>\n",
       "  </tbody>\n",
       "</table>\n",
       "</div>"
      ],
      "text/plain": [
       "            pickup_datetime  pickup_longitude  pickup_latitude  \\\n",
       "0 2015-01-27 13:08:24+00:00        -73.973320        40.763805   \n",
       "1 2015-01-27 13:08:24+00:00        -73.986862        40.719383   \n",
       "2 2011-10-08 11:53:44+00:00        -73.982524        40.751260   \n",
       "3 2012-12-01 21:12:12+00:00        -73.981160        40.767807   \n",
       "4 2012-12-01 21:12:12+00:00        -73.966046        40.789775   \n",
       "\n",
       "   dropoff_longitude  dropoff_latitude  passenger_count  year  month  weekday  \\\n",
       "0         -73.981430         40.743835                1  2015      1        1   \n",
       "1         -73.998886         40.739201                1  2015      1        1   \n",
       "2         -73.979654         40.746139                1  2011     10        5   \n",
       "3         -73.990448         40.751635                1  2012     12        5   \n",
       "4         -73.988565         40.744427                1  2012     12        5   \n",
       "\n",
       "   hour  abs_longi   abs_lat  distance  \n",
       "0    13   0.008110  0.019970  2.323259  \n",
       "1    13   0.012024  0.019817  2.425353  \n",
       "2    11   0.002870  0.005121  0.618628  \n",
       "3    21   0.009288  0.016172  1.961033  \n",
       "4    21   0.022519  0.045348  5.387301  "
      ]
     },
     "execution_count": 151,
     "metadata": {},
     "output_type": "execute_result"
    }
   ],
   "source": [
    "cabtest.head()"
   ]
  },
  {
   "cell_type": "code",
   "execution_count": 152,
   "metadata": {},
   "outputs": [
    {
     "data": {
      "text/html": [
       "<div>\n",
       "<style scoped>\n",
       "    .dataframe tbody tr th:only-of-type {\n",
       "        vertical-align: middle;\n",
       "    }\n",
       "\n",
       "    .dataframe tbody tr th {\n",
       "        vertical-align: top;\n",
       "    }\n",
       "\n",
       "    .dataframe thead th {\n",
       "        text-align: right;\n",
       "    }\n",
       "</style>\n",
       "<table border=\"1\" class=\"dataframe\">\n",
       "  <thead>\n",
       "    <tr style=\"text-align: right;\">\n",
       "      <th></th>\n",
       "      <th>pickup_datetime</th>\n",
       "      <th>pickup_longitude</th>\n",
       "      <th>pickup_latitude</th>\n",
       "      <th>dropoff_longitude</th>\n",
       "      <th>dropoff_latitude</th>\n",
       "      <th>passenger_count</th>\n",
       "      <th>year</th>\n",
       "      <th>month</th>\n",
       "      <th>weekday</th>\n",
       "      <th>hour</th>\n",
       "      <th>abs_longi</th>\n",
       "      <th>abs_lat</th>\n",
       "      <th>distance</th>\n",
       "    </tr>\n",
       "  </thead>\n",
       "  <tbody>\n",
       "    <tr>\n",
       "      <td>count</td>\n",
       "      <td>9914</td>\n",
       "      <td>9914.000000</td>\n",
       "      <td>9914.000000</td>\n",
       "      <td>9914.000000</td>\n",
       "      <td>9914.000000</td>\n",
       "      <td>9914.000000</td>\n",
       "      <td>9914.000000</td>\n",
       "      <td>9914.000000</td>\n",
       "      <td>9914.000000</td>\n",
       "      <td>9914.000000</td>\n",
       "      <td>9914.000000</td>\n",
       "      <td>9914.000000</td>\n",
       "      <td>9914.000000</td>\n",
       "    </tr>\n",
       "    <tr>\n",
       "      <td>unique</td>\n",
       "      <td>1753</td>\n",
       "      <td>NaN</td>\n",
       "      <td>NaN</td>\n",
       "      <td>NaN</td>\n",
       "      <td>NaN</td>\n",
       "      <td>NaN</td>\n",
       "      <td>NaN</td>\n",
       "      <td>NaN</td>\n",
       "      <td>NaN</td>\n",
       "      <td>NaN</td>\n",
       "      <td>NaN</td>\n",
       "      <td>NaN</td>\n",
       "      <td>NaN</td>\n",
       "    </tr>\n",
       "    <tr>\n",
       "      <td>top</td>\n",
       "      <td>2011-12-13 22:00:00+00:00</td>\n",
       "      <td>NaN</td>\n",
       "      <td>NaN</td>\n",
       "      <td>NaN</td>\n",
       "      <td>NaN</td>\n",
       "      <td>NaN</td>\n",
       "      <td>NaN</td>\n",
       "      <td>NaN</td>\n",
       "      <td>NaN</td>\n",
       "      <td>NaN</td>\n",
       "      <td>NaN</td>\n",
       "      <td>NaN</td>\n",
       "      <td>NaN</td>\n",
       "    </tr>\n",
       "    <tr>\n",
       "      <td>freq</td>\n",
       "      <td>270</td>\n",
       "      <td>NaN</td>\n",
       "      <td>NaN</td>\n",
       "      <td>NaN</td>\n",
       "      <td>NaN</td>\n",
       "      <td>NaN</td>\n",
       "      <td>NaN</td>\n",
       "      <td>NaN</td>\n",
       "      <td>NaN</td>\n",
       "      <td>NaN</td>\n",
       "      <td>NaN</td>\n",
       "      <td>NaN</td>\n",
       "      <td>NaN</td>\n",
       "    </tr>\n",
       "    <tr>\n",
       "      <td>first</td>\n",
       "      <td>2009-01-01 11:04:24+00:00</td>\n",
       "      <td>NaN</td>\n",
       "      <td>NaN</td>\n",
       "      <td>NaN</td>\n",
       "      <td>NaN</td>\n",
       "      <td>NaN</td>\n",
       "      <td>NaN</td>\n",
       "      <td>NaN</td>\n",
       "      <td>NaN</td>\n",
       "      <td>NaN</td>\n",
       "      <td>NaN</td>\n",
       "      <td>NaN</td>\n",
       "      <td>NaN</td>\n",
       "    </tr>\n",
       "    <tr>\n",
       "      <td>last</td>\n",
       "      <td>2015-06-30 20:03:50+00:00</td>\n",
       "      <td>NaN</td>\n",
       "      <td>NaN</td>\n",
       "      <td>NaN</td>\n",
       "      <td>NaN</td>\n",
       "      <td>NaN</td>\n",
       "      <td>NaN</td>\n",
       "      <td>NaN</td>\n",
       "      <td>NaN</td>\n",
       "      <td>NaN</td>\n",
       "      <td>NaN</td>\n",
       "      <td>NaN</td>\n",
       "      <td>NaN</td>\n",
       "    </tr>\n",
       "    <tr>\n",
       "      <td>mean</td>\n",
       "      <td>NaN</td>\n",
       "      <td>-73.974722</td>\n",
       "      <td>40.751041</td>\n",
       "      <td>-73.973657</td>\n",
       "      <td>40.751743</td>\n",
       "      <td>1.671273</td>\n",
       "      <td>2011.815816</td>\n",
       "      <td>6.857979</td>\n",
       "      <td>2.852834</td>\n",
       "      <td>13.467420</td>\n",
       "      <td>0.023348</td>\n",
       "      <td>0.022133</td>\n",
       "      <td>3.435371</td>\n",
       "    </tr>\n",
       "    <tr>\n",
       "      <td>std</td>\n",
       "      <td>NaN</td>\n",
       "      <td>0.042774</td>\n",
       "      <td>0.033541</td>\n",
       "      <td>0.039072</td>\n",
       "      <td>0.035435</td>\n",
       "      <td>1.278747</td>\n",
       "      <td>1.803347</td>\n",
       "      <td>3.353272</td>\n",
       "      <td>1.994451</td>\n",
       "      <td>6.868584</td>\n",
       "      <td>0.036719</td>\n",
       "      <td>0.025589</td>\n",
       "      <td>3.972374</td>\n",
       "    </tr>\n",
       "    <tr>\n",
       "      <td>min</td>\n",
       "      <td>NaN</td>\n",
       "      <td>-74.252193</td>\n",
       "      <td>40.573143</td>\n",
       "      <td>-74.263242</td>\n",
       "      <td>40.568973</td>\n",
       "      <td>1.000000</td>\n",
       "      <td>2009.000000</td>\n",
       "      <td>1.000000</td>\n",
       "      <td>0.000000</td>\n",
       "      <td>0.000000</td>\n",
       "      <td>0.000000</td>\n",
       "      <td>0.000000</td>\n",
       "      <td>0.000000</td>\n",
       "    </tr>\n",
       "    <tr>\n",
       "      <td>25%</td>\n",
       "      <td>NaN</td>\n",
       "      <td>-73.992501</td>\n",
       "      <td>40.736125</td>\n",
       "      <td>-73.991247</td>\n",
       "      <td>40.735254</td>\n",
       "      <td>1.000000</td>\n",
       "      <td>2010.000000</td>\n",
       "      <td>4.000000</td>\n",
       "      <td>1.000000</td>\n",
       "      <td>8.000000</td>\n",
       "      <td>0.006354</td>\n",
       "      <td>0.007279</td>\n",
       "      <td>1.298277</td>\n",
       "    </tr>\n",
       "    <tr>\n",
       "      <td>50%</td>\n",
       "      <td>NaN</td>\n",
       "      <td>-73.982326</td>\n",
       "      <td>40.753051</td>\n",
       "      <td>-73.980015</td>\n",
       "      <td>40.754065</td>\n",
       "      <td>1.000000</td>\n",
       "      <td>2012.000000</td>\n",
       "      <td>7.000000</td>\n",
       "      <td>3.000000</td>\n",
       "      <td>15.000000</td>\n",
       "      <td>0.013123</td>\n",
       "      <td>0.014715</td>\n",
       "      <td>2.217412</td>\n",
       "    </tr>\n",
       "    <tr>\n",
       "      <td>75%</td>\n",
       "      <td>NaN</td>\n",
       "      <td>-73.968013</td>\n",
       "      <td>40.767113</td>\n",
       "      <td>-73.964059</td>\n",
       "      <td>40.768757</td>\n",
       "      <td>2.000000</td>\n",
       "      <td>2014.000000</td>\n",
       "      <td>10.000000</td>\n",
       "      <td>5.000000</td>\n",
       "      <td>19.000000</td>\n",
       "      <td>0.024557</td>\n",
       "      <td>0.028261</td>\n",
       "      <td>4.045302</td>\n",
       "    </tr>\n",
       "    <tr>\n",
       "      <td>max</td>\n",
       "      <td>NaN</td>\n",
       "      <td>-72.986532</td>\n",
       "      <td>41.709555</td>\n",
       "      <td>-72.990963</td>\n",
       "      <td>41.696683</td>\n",
       "      <td>6.000000</td>\n",
       "      <td>2015.000000</td>\n",
       "      <td>12.000000</td>\n",
       "      <td>6.000000</td>\n",
       "      <td>23.000000</td>\n",
       "      <td>0.849168</td>\n",
       "      <td>0.633213</td>\n",
       "      <td>99.996040</td>\n",
       "    </tr>\n",
       "  </tbody>\n",
       "</table>\n",
       "</div>"
      ],
      "text/plain": [
       "                  pickup_datetime  pickup_longitude  pickup_latitude  \\\n",
       "count                        9914       9914.000000      9914.000000   \n",
       "unique                       1753               NaN              NaN   \n",
       "top     2011-12-13 22:00:00+00:00               NaN              NaN   \n",
       "freq                          270               NaN              NaN   \n",
       "first   2009-01-01 11:04:24+00:00               NaN              NaN   \n",
       "last    2015-06-30 20:03:50+00:00               NaN              NaN   \n",
       "mean                          NaN        -73.974722        40.751041   \n",
       "std                           NaN          0.042774         0.033541   \n",
       "min                           NaN        -74.252193        40.573143   \n",
       "25%                           NaN        -73.992501        40.736125   \n",
       "50%                           NaN        -73.982326        40.753051   \n",
       "75%                           NaN        -73.968013        40.767113   \n",
       "max                           NaN        -72.986532        41.709555   \n",
       "\n",
       "        dropoff_longitude  dropoff_latitude  passenger_count         year  \\\n",
       "count         9914.000000       9914.000000      9914.000000  9914.000000   \n",
       "unique                NaN               NaN              NaN          NaN   \n",
       "top                   NaN               NaN              NaN          NaN   \n",
       "freq                  NaN               NaN              NaN          NaN   \n",
       "first                 NaN               NaN              NaN          NaN   \n",
       "last                  NaN               NaN              NaN          NaN   \n",
       "mean           -73.973657         40.751743         1.671273  2011.815816   \n",
       "std              0.039072          0.035435         1.278747     1.803347   \n",
       "min            -74.263242         40.568973         1.000000  2009.000000   \n",
       "25%            -73.991247         40.735254         1.000000  2010.000000   \n",
       "50%            -73.980015         40.754065         1.000000  2012.000000   \n",
       "75%            -73.964059         40.768757         2.000000  2014.000000   \n",
       "max            -72.990963         41.696683         6.000000  2015.000000   \n",
       "\n",
       "              month      weekday         hour    abs_longi      abs_lat  \\\n",
       "count   9914.000000  9914.000000  9914.000000  9914.000000  9914.000000   \n",
       "unique          NaN          NaN          NaN          NaN          NaN   \n",
       "top             NaN          NaN          NaN          NaN          NaN   \n",
       "freq            NaN          NaN          NaN          NaN          NaN   \n",
       "first           NaN          NaN          NaN          NaN          NaN   \n",
       "last            NaN          NaN          NaN          NaN          NaN   \n",
       "mean       6.857979     2.852834    13.467420     0.023348     0.022133   \n",
       "std        3.353272     1.994451     6.868584     0.036719     0.025589   \n",
       "min        1.000000     0.000000     0.000000     0.000000     0.000000   \n",
       "25%        4.000000     1.000000     8.000000     0.006354     0.007279   \n",
       "50%        7.000000     3.000000    15.000000     0.013123     0.014715   \n",
       "75%       10.000000     5.000000    19.000000     0.024557     0.028261   \n",
       "max       12.000000     6.000000    23.000000     0.849168     0.633213   \n",
       "\n",
       "           distance  \n",
       "count   9914.000000  \n",
       "unique          NaN  \n",
       "top             NaN  \n",
       "freq            NaN  \n",
       "first           NaN  \n",
       "last            NaN  \n",
       "mean       3.435371  \n",
       "std        3.972374  \n",
       "min        0.000000  \n",
       "25%        1.298277  \n",
       "50%        2.217412  \n",
       "75%        4.045302  \n",
       "max       99.996040  "
      ]
     },
     "execution_count": 152,
     "metadata": {},
     "output_type": "execute_result"
    }
   ],
   "source": [
    "cabtest.describe(include = 'all')"
   ]
  },
  {
   "cell_type": "code",
   "execution_count": 153,
   "metadata": {},
   "outputs": [],
   "source": [
    "cabtest = cabtest.drop(['pickup_datetime','pickup_longitude', 'pickup_latitude','dropoff_longitude', 'dropoff_latitude'], axis=1)"
   ]
  },
  {
   "cell_type": "code",
   "execution_count": 154,
   "metadata": {},
   "outputs": [],
   "source": [
    "rf = RandomForestRegressor(n_estimators = 500, random_state = 127).fit(train.iloc[:,4:12],train.iloc[:,12])\n",
    "amount = rf.predict(cabtest)\n",
    "\n",
    "cabtest ['amount'] = amount"
   ]
  },
  {
   "cell_type": "code",
   "execution_count": 155,
   "metadata": {},
   "outputs": [
    {
     "data": {
      "text/html": [
       "<div>\n",
       "<style scoped>\n",
       "    .dataframe tbody tr th:only-of-type {\n",
       "        vertical-align: middle;\n",
       "    }\n",
       "\n",
       "    .dataframe tbody tr th {\n",
       "        vertical-align: top;\n",
       "    }\n",
       "\n",
       "    .dataframe thead th {\n",
       "        text-align: right;\n",
       "    }\n",
       "</style>\n",
       "<table border=\"1\" class=\"dataframe\">\n",
       "  <thead>\n",
       "    <tr style=\"text-align: right;\">\n",
       "      <th></th>\n",
       "      <th>passenger_count</th>\n",
       "      <th>year</th>\n",
       "      <th>month</th>\n",
       "      <th>weekday</th>\n",
       "      <th>hour</th>\n",
       "      <th>abs_longi</th>\n",
       "      <th>abs_lat</th>\n",
       "      <th>distance</th>\n",
       "      <th>amount</th>\n",
       "    </tr>\n",
       "  </thead>\n",
       "  <tbody>\n",
       "    <tr>\n",
       "      <td>0</td>\n",
       "      <td>1</td>\n",
       "      <td>2015</td>\n",
       "      <td>1</td>\n",
       "      <td>1</td>\n",
       "      <td>13</td>\n",
       "      <td>0.008110</td>\n",
       "      <td>0.019970</td>\n",
       "      <td>2.323259</td>\n",
       "      <td>30.95476</td>\n",
       "    </tr>\n",
       "    <tr>\n",
       "      <td>1</td>\n",
       "      <td>1</td>\n",
       "      <td>2015</td>\n",
       "      <td>1</td>\n",
       "      <td>1</td>\n",
       "      <td>13</td>\n",
       "      <td>0.012024</td>\n",
       "      <td>0.019817</td>\n",
       "      <td>2.425353</td>\n",
       "      <td>31.06370</td>\n",
       "    </tr>\n",
       "  </tbody>\n",
       "</table>\n",
       "</div>"
      ],
      "text/plain": [
       "   passenger_count  year  month  weekday  hour  abs_longi   abs_lat  distance  \\\n",
       "0                1  2015      1        1    13   0.008110  0.019970  2.323259   \n",
       "1                1  2015      1        1    13   0.012024  0.019817  2.425353   \n",
       "\n",
       "     amount  \n",
       "0  30.95476  \n",
       "1  31.06370  "
      ]
     },
     "execution_count": 155,
     "metadata": {},
     "output_type": "execute_result"
    }
   ],
   "source": [
    "cabtest.head(2)"
   ]
  },
  {
   "cell_type": "code",
   "execution_count": 156,
   "metadata": {},
   "outputs": [],
   "source": [
    "cabtest.to_csv(\"Fare_Amount_Predicted.csv\")"
   ]
  },
  {
   "cell_type": "code",
   "execution_count": 157,
   "metadata": {},
   "outputs": [
    {
     "data": {
      "text/plain": [
       "Text(0.5, 1.0, 'fare_amount')"
      ]
     },
     "execution_count": 157,
     "metadata": {},
     "output_type": "execute_result"
    },
    {
     "data": {
      "image/png": "[encoded data removed]",
      "text/plain": [
       "<Figure size 720x360 with 1 Axes>"
      ]
     },
     "metadata": {},
     "output_type": "display_data"
    }
   ],
   "source": [
    "fig_size = plt.rcParams['figure.figsize']\n",
    "fig_size[0] = 10\n",
    "fig_size[1] = 5\n",
    "plt.plot(cabtest['amount'])\n",
    "plt.title('fare_amount')"
   ]
  },
  {
   "cell_type": "code",
   "execution_count": null,
   "metadata": {},
   "outputs": [],
   "source": []
  },
  {
   "cell_type": "code",
   "execution_count": null,
   "metadata": {},
   "outputs": [],
   "source": []
  },
  {
   "cell_type": "code",
   "execution_count": null,
   "metadata": {},
   "outputs": [],
   "source": []
  },
  {
   "cell_type": "code",
   "execution_count": null,
   "metadata": {},
   "outputs": [],
   "source": []
  },
  {
   "cell_type": "code",
   "execution_count": null,
   "metadata": {},
   "outputs": [],
   "source": []
  }
 ],
 "metadata": {
  "kernelspec": {
   "display_name": "Python 3",
   "language": "python",
   "name": "python3"
  },
  "language_info": {
   "codemirror_mode": {
    "name": "ipython",
    "version": 3
   },
   "file_extension": ".py",
   "mimetype": "text/x-python",
   "name": "python",
   "nbconvert_exporter": "python",
   "pygments_lexer": "ipython3",
   "version": "3.7.4"
  }
 },
 "nbformat": 4,
 "nbformat_minor": 2
}
